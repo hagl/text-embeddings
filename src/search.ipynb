{
 "cells": [
  {
   "cell_type": "code",
   "execution_count": 7,
   "metadata": {
    "collapsed": true
   },
   "outputs": [],
   "source": [
    "from elasticsearch import Elasticsearch\n",
    "import tensorflow.compat.v1 as tf\n",
    "import tensorflow_hub as hub"
   ]
  },
  {
   "cell_type": "code",
   "execution_count": 8,
   "metadata": {
    "collapsed": true
   },
   "outputs": [],
   "source": [
    "embed = hub.Module(\"https://tfhub.dev/google/universal-sentence-encoder/2\")\n",
    "text_ph = tf.placeholder(tf.string)\n",
    "embeddings = embed(text_ph)\n",
    "\n",
    "session = tf.Session()\n",
    "session.run(tf.global_variables_initializer())\n",
    "session.run(tf.tables_initializer())"
   ]
  },
  {
   "cell_type": "code",
   "execution_count": 9,
   "metadata": {
    "collapsed": true
   },
   "outputs": [],
   "source": [
    "client = Elasticsearch()\n"
   ]
  },
  {
   "cell_type": "code",
   "execution_count": 22,
   "metadata": {
    "collapsed": true
   },
   "outputs": [],
   "source": [
    "INDEX_NAME = \"images\"\n",
    "SEARCH_SIZE = 5\n",
    "from IPython.display import HTML, display, update_display\n",
    "from functools import reduce\n",
    "\n",
    "def search(text):\n",
    "    vectors = session.run(embeddings, feed_dict={text_ph: [text]})\n",
    "    query_vector = [vector.tolist() for vector in vectors]\n",
    "    script_query = {\n",
    "        \"script_score\": {\n",
    "            \"query\": {\"match_all\": {}},\n",
    "            \"script\": {\n",
    "                \"source\": \"cosineSimilarity(params.query_vector, doc['title_vector']) + 1.0\",\n",
    "                \"params\": {\"query_vector\": query_vector[0]}\n",
    "            }\n",
    "        }\n",
    "    }\n",
    "    response = client.search(\n",
    "        index=INDEX_NAME,\n",
    "        body={\n",
    "            \"size\": SEARCH_SIZE,\n",
    "            \"query\": script_query,\n",
    "            \"_source\": {\"includes\": [\"imageId\", \"title\", \"body\"]}\n",
    "        }\n",
    "    )\n",
    "\n",
    "    images = map(lambda hit: \"<div style='margin: 10px;display:inline-block;vertical-align: top; height:250px; width: 300px'><img style='display:inline-block' src='https://images-cdn.kahoot.it/\" + hit[\"_source\"][\"imageId\"] + \"?&width=300&crop=3:2'><br>\" + hit[\"_source\"][\"title\"] + \"</div>\", response[\"hits\"][\"hits\"])\n",
    "\n",
    "    return HTML(reduce(lambda x,y: x + y , images))\n",
    "             \n",
    "             "
   ]
  },
  {
   "cell_type": "code",
   "execution_count": 26,
   "metadata": {},
   "outputs": [
    {
     "data": {
      "application/vnd.jupyter.widget-view+json": {
       "model_id": "c8e2feb4eaad4a8f8c5da0c49077f5aa",
       "version_major": 2,
       "version_minor": 0
      },
      "text/plain": [
       "Text(value='')"
      ]
     },
     "metadata": {},
     "output_type": "display_data"
    },
    {
     "data": {
      "text/html": [
       "<div style='margin: 10px;display:inline-block;vertical-align: top; height:250px; width: 300px'><img style='display:inline-block' src='https://images-cdn.kahoot.it/8cbb82de-7e40-4d5d-b233-6ed6189d3617?&width=300&crop=3:2'><br>Small Group of Giant Tortoises of the Seychelles</div><div style='margin: 10px;display:inline-block;vertical-align: top; height:250px; width: 300px'><img style='display:inline-block' src='https://images-cdn.kahoot.it/3eeb0449-d7d0-4a07-b7c0-5ecefdad660e?&width=300&crop=3:2'><br>Blue whale (Balaenoptera musculus): largest animal on Earth, California, USA, Pacific Ocean</div><div style='margin: 10px;display:inline-block;vertical-align: top; height:250px; width: 300px'><img style='display:inline-block' src='https://images-cdn.kahoot.it/c0db3b0b-eb19-49c5-a77b-bf2b2823e949?&width=300&crop=3:2'><br>Duck-Billed Platypus Animal Sitting  on a Rock</div><div style='margin: 10px;display:inline-block;vertical-align: top; height:250px; width: 300px'><img style='display:inline-block' src='https://images-cdn.kahoot.it/29591140-af6a-45a1-83fa-01d89cdfe661?&width=300&crop=3:2'><br>Cassowary with squabs</div><div style='margin: 10px;display:inline-block;vertical-align: top; height:250px; width: 300px'><img style='display:inline-block' src='https://images-cdn.kahoot.it/028d9e6d-1f9d-49da-bff0-289c2ec11bd5?&width=300&crop=3:2'><br>Small freshwater Crustacean organisms</div>"
      ],
      "text/plain": [
       "<IPython.core.display.HTML object>"
      ]
     },
     "metadata": {},
     "output_type": "display_data"
    }
   ],
   "source": [
    "#display(search(\"who was the first man on the moon?\"))\n",
    "from ipywidgets import widgets\n",
    "text = widgets.Text()\n",
    "display(text)\n",
    "\n",
    "display(HTML(\"<div/>\"), display_id='results')\n",
    "def doSearch(input):\n",
    "    update_display(search(input.value), display_id='results');\n",
    "\n",
    "\n",
    "text.on_submit(doSearch)"
   ]
  }
 ],
 "metadata": {
  "kernelspec": {
   "display_name": "search",
   "language": "python",
   "name": "search"
  },
  "language_info": {
   "codemirror_mode": {
    "name": "ipython",
    "version": 3
   },
   "file_extension": ".py",
   "mimetype": "text/x-python",
   "name": "python",
   "nbconvert_exporter": "python",
   "pygments_lexer": "ipython3",
   "version": "3.6.2"
  }
 },
 "nbformat": 4,
 "nbformat_minor": 2
}
